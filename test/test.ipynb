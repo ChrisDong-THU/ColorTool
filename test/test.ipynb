{
 "cells": [
  {
   "attachments": {},
   "cell_type": "markdown",
   "metadata": {},
   "source": [
    "np.vstack"
   ]
  },
  {
   "cell_type": "code",
   "execution_count": 38,
   "metadata": {},
   "outputs": [],
   "source": [
    "import numpy as np\n",
    "import cv2\n",
    "from sklearn.cluster import KMeans"
   ]
  },
  {
   "cell_type": "code",
   "execution_count": 31,
   "metadata": {},
   "outputs": [
    {
     "name": "stdout",
     "output_type": "stream",
     "text": [
      "[255 255 255 ... 255 255 255]\n"
     ]
    }
   ],
   "source": [
    "img = cv2.imread(\"test.png\")\n",
    "# print(img)\n",
    "\n",
    "rchannel = img[:,:,0].flatten()\n",
    "gchannel = img[:,:,1].flatten()\n",
    "bchannel = img[:,:,2].flatten()\n",
    "\n",
    "# print(rchannel)\n",
    "print(rchannel)"
   ]
  },
  {
   "cell_type": "code",
   "execution_count": 36,
   "metadata": {},
   "outputs": [
    {
     "name": "stdout",
     "output_type": "stream",
     "text": [
      "(3, 3200)\n"
     ]
    },
    {
     "data": {
      "text/plain": [
       "array([[255.,   0.,   0.],\n",
       "       [255.,   0.,   0.],\n",
       "       [255.,   0.,   0.],\n",
       "       ...,\n",
       "       [255.,   0.,   0.],\n",
       "       [255.,   0.,   0.],\n",
       "       [255.,   0.,   0.]])"
      ]
     },
     "execution_count": 36,
     "metadata": {},
     "output_type": "execute_result"
    }
   ],
   "source": [
    "rgblist = np.array(rchannel)\n",
    "rgblist = np.vstack((rgblist, gchannel, bchannel), dtype=np.double)\n",
    "print(rgblist.shape)\n",
    "rgblist.T\n"
   ]
  },
  {
   "cell_type": "code",
   "execution_count": 41,
   "metadata": {},
   "outputs": [
    {
     "name": "stderr",
     "output_type": "stream",
     "text": [
      "e:\\Anaconda3\\envs\\qt\\lib\\site-packages\\sklearn\\cluster\\_kmeans.py:870: FutureWarning: The default value of `n_init` will change from 10 to 'auto' in 1.4. Set the value of `n_init` explicitly to suppress the warning\n",
      "  warnings.warn(\n",
      "e:\\Anaconda3\\envs\\qt\\lib\\site-packages\\sklearn\\cluster\\_kmeans.py:1366: FutureWarning: algorithm='auto' is deprecated, it will be removed in 1.3. Using 'lloyd' instead.\n",
      "  warnings.warn(\n",
      "C:\\Users\\20709\\AppData\\Local\\Temp\\ipykernel_5156\\1777636795.py:2: ConvergenceWarning: Number of distinct clusters (1) found smaller than n_clusters (3). Possibly due to duplicate points in X.\n",
      "  kmeans.fit(rgblist.T)\n"
     ]
    },
    {
     "data": {
      "text/plain": [
       "array([[255.,   0.,   0.],\n",
       "       [255.,   0.,   0.],\n",
       "       [255.,   0.,   0.]])"
      ]
     },
     "execution_count": 41,
     "metadata": {},
     "output_type": "execute_result"
    }
   ],
   "source": [
    "kmeans = KMeans(n_clusters=3, max_iter=300, algorithm='auto')\n",
    "kmeans.fit(rgblist.T)\n",
    "\n",
    "c = kmeans.cluster_centers_\n",
    "c"
   ]
  },
  {
   "cell_type": "code",
   "execution_count": 13,
   "metadata": {},
   "outputs": [],
   "source": [
    "img = np.zeros((500, 500, 3), np.uint8)\n",
    "color = (0, 0, 255) # BGR\n",
    "cv2.rectangle(img, (100,100), (500,500), color, -1)\n",
    "\n",
    "cv2.imshow('rect', img)\n",
    "cv2.waitKey(0)\n",
    "cv2.destroyAllWindows()"
   ]
  }
 ],
 "metadata": {
  "kernelspec": {
   "display_name": "qt",
   "language": "python",
   "name": "python3"
  },
  "language_info": {
   "codemirror_mode": {
    "name": "ipython",
    "version": 3
   },
   "file_extension": ".py",
   "mimetype": "text/x-python",
   "name": "python",
   "nbconvert_exporter": "python",
   "pygments_lexer": "ipython3",
   "version": "3.9.16"
  },
  "orig_nbformat": 4
 },
 "nbformat": 4,
 "nbformat_minor": 2
}
